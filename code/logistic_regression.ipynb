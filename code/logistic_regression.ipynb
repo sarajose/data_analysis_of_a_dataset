{
 "cells": [
  {
   "cell_type": "code",
   "execution_count": 6,
   "id": "5254341e",
   "metadata": {},
   "outputs": [],
   "source": [
    "import numpy as np\n",
    "import pandas as pd\n",
    "import matplotlib.pyplot as plt\n",
    "import seaborn as sns"
   ]
  },
  {
   "cell_type": "code",
   "execution_count": 16,
   "id": "448170cf",
   "metadata": {},
   "outputs": [],
   "source": [
    "import warnings\n",
    "warnings.filterwarnings('ignore')"
   ]
  },
  {
   "cell_type": "code",
   "execution_count": 26,
   "id": "56fe95e7",
   "metadata": {},
   "outputs": [
    {
     "data": {
      "text/html": [
       "<div>\n",
       "<style scoped>\n",
       "    .dataframe tbody tr th:only-of-type {\n",
       "        vertical-align: middle;\n",
       "    }\n",
       "\n",
       "    .dataframe tbody tr th {\n",
       "        vertical-align: top;\n",
       "    }\n",
       "\n",
       "    .dataframe thead th {\n",
       "        text-align: right;\n",
       "    }\n",
       "</style>\n",
       "<table border=\"1\" class=\"dataframe\">\n",
       "  <thead>\n",
       "    <tr style=\"text-align: right;\">\n",
       "      <th></th>\n",
       "      <th>place_type</th>\n",
       "      <th>capacity</th>\n",
       "      <th>is_free</th>\n",
       "      <th>altitude</th>\n",
       "      <th>country</th>\n",
       "      <th>region</th>\n",
       "      <th>latitude</th>\n",
       "      <th>longitude</th>\n",
       "      <th>num_nearby_routes</th>\n",
       "      <th>num_services</th>\n",
       "    </tr>\n",
       "  </thead>\n",
       "  <tbody>\n",
       "    <tr>\n",
       "      <th>15</th>\n",
       "      <td>0</td>\n",
       "      <td>18.0</td>\n",
       "      <td>1</td>\n",
       "      <td>7.831220</td>\n",
       "      <td>0</td>\n",
       "      <td>3</td>\n",
       "      <td>3.775000</td>\n",
       "      <td>0.887562</td>\n",
       "      <td>4.477337</td>\n",
       "      <td>1.098612</td>\n",
       "    </tr>\n",
       "    <tr>\n",
       "      <th>31</th>\n",
       "      <td>0</td>\n",
       "      <td>6.0</td>\n",
       "      <td>1</td>\n",
       "      <td>7.669028</td>\n",
       "      <td>0</td>\n",
       "      <td>3</td>\n",
       "      <td>3.770063</td>\n",
       "      <td>1.154482</td>\n",
       "      <td>2.484907</td>\n",
       "      <td>1.098612</td>\n",
       "    </tr>\n",
       "    <tr>\n",
       "      <th>35</th>\n",
       "      <td>0</td>\n",
       "      <td>2.0</td>\n",
       "      <td>1</td>\n",
       "      <td>7.626083</td>\n",
       "      <td>1</td>\n",
       "      <td>12</td>\n",
       "      <td>3.771733</td>\n",
       "      <td>1.146729</td>\n",
       "      <td>1.098612</td>\n",
       "      <td>0.693147</td>\n",
       "    </tr>\n",
       "    <tr>\n",
       "      <th>36</th>\n",
       "      <td>0</td>\n",
       "      <td>6.0</td>\n",
       "      <td>1</td>\n",
       "      <td>7.710205</td>\n",
       "      <td>2</td>\n",
       "      <td>13</td>\n",
       "      <td>3.773016</td>\n",
       "      <td>0.958936</td>\n",
       "      <td>4.510860</td>\n",
       "      <td>1.609438</td>\n",
       "    </tr>\n",
       "    <tr>\n",
       "      <th>39</th>\n",
       "      <td>1</td>\n",
       "      <td>160.0</td>\n",
       "      <td>0</td>\n",
       "      <td>6.401917</td>\n",
       "      <td>0</td>\n",
       "      <td>3</td>\n",
       "      <td>3.764736</td>\n",
       "      <td>1.266018</td>\n",
       "      <td>3.178054</td>\n",
       "      <td>1.945910</td>\n",
       "    </tr>\n",
       "  </tbody>\n",
       "</table>\n",
       "</div>"
      ],
      "text/plain": [
       "    place_type  capacity  is_free  altitude  country  region  latitude  \\\n",
       "15           0      18.0        1  7.831220        0       3  3.775000   \n",
       "31           0       6.0        1  7.669028        0       3  3.770063   \n",
       "35           0       2.0        1  7.626083        1      12  3.771733   \n",
       "36           0       6.0        1  7.710205        2      13  3.773016   \n",
       "39           1     160.0        0  6.401917        0       3  3.764736   \n",
       "\n",
       "    longitude  num_nearby_routes  num_services  \n",
       "15   0.887562           4.477337      1.098612  \n",
       "31   1.154482           2.484907      1.098612  \n",
       "35   1.146729           1.098612      0.693147  \n",
       "36   0.958936           4.510860      1.609438  \n",
       "39   1.266018           3.178054      1.945910  "
      ]
     },
     "execution_count": 26,
     "metadata": {},
     "output_type": "execute_result"
    }
   ],
   "source": [
    "# Deserializing les dades\n",
    "\n",
    "std_df = pd.read_pickle('../data/standard_df.pkl')\n",
    "std_df.head()"
   ]
  },
  {
   "cell_type": "code",
   "execution_count": 18,
   "id": "25903c86",
   "metadata": {},
   "outputs": [],
   "source": [
    "# Regressió logística\n",
    "# Parteixo les dades\n",
    "from sklearn.model_selection import train_test_split\n",
    "\n",
    "X = std_df.drop('is_free', 1)\n",
    "y = std_df.is_free\n",
    "\n",
    "X_train, X_test, y_train, y_test = train_test_split(X, y, test_size=0.30, random_state=42)"
   ]
  },
  {
   "cell_type": "code",
   "execution_count": 19,
   "id": "4d9dd728",
   "metadata": {},
   "outputs": [],
   "source": [
    "# Entreno el model\n",
    "from sklearn import linear_model, datasets\n",
    "\n",
    "logreg = linear_model.LogisticRegression()\n",
    "model = logreg.fit(X_train, y_train)"
   ]
  },
  {
   "cell_type": "code",
   "execution_count": 20,
   "id": "87879fac",
   "metadata": {},
   "outputs": [
    {
     "data": {
      "text/plain": [
       "array([1, 1, 1, 1, 1, 0, 1, 1, 0, 1, 1, 1, 0, 1, 1, 1, 1, 0, 1, 1, 1, 1,\n",
       "       1, 1, 1, 1, 1, 0, 1, 1, 1, 1, 1, 0, 1, 1, 1, 0, 1, 1, 1, 1, 1, 0,\n",
       "       1, 1, 0, 1, 1, 1, 0, 1, 0, 1, 1, 1, 1, 1, 1, 0, 0, 1, 1, 1, 1, 0,\n",
       "       1, 1, 1, 0, 1], dtype=int64)"
      ]
     },
     "execution_count": 20,
     "metadata": {},
     "output_type": "execute_result"
    }
   ],
   "source": [
    "# Prediccions del model\n",
    "predicted = model.predict(X_test)\n",
    "predicted"
   ]
  },
  {
   "cell_type": "code",
   "execution_count": 21,
   "id": "51ea7396",
   "metadata": {},
   "outputs": [
    {
     "data": {
      "text/plain": [
       "<module 'matplotlib.pyplot' from 'C:\\\\Users\\\\sara-\\\\anaconda3\\\\envs\\\\bookEnv\\\\lib\\\\site-packages\\\\matplotlib\\\\pyplot.py'>"
      ]
     },
     "execution_count": 21,
     "metadata": {},
     "output_type": "execute_result"
    },
    {
     "data": {
      "image/png": "[encoded data removed]",
      "text/plain": [
       "<Figure size 432x288 with 2 Axes>"
      ]
     },
     "metadata": {
      "needs_background": "light"
     },
     "output_type": "display_data"
    }
   ],
   "source": [
    "# Matriu de confusió\n",
    "from sklearn.metrics import confusion_matrix\n",
    "\n",
    "matrix = confusion_matrix(y_test, predicted)\n",
    "sns.heatmap(matrix, annot=True, fmt=\"d\", cmap='Blues', square=True)\n",
    "plt.xlabel(\"Predicció\")\n",
    "plt.ylabel(\"Real\")\n",
    "plt"
   ]
  },
  {
   "cell_type": "code",
   "execution_count": 22,
   "id": "a44029ea",
   "metadata": {},
   "outputs": [
    {
     "data": {
      "text/plain": [
       "0.971830985915493"
      ]
     },
     "execution_count": 22,
     "metadata": {},
     "output_type": "execute_result"
    }
   ],
   "source": [
    "# Accuracy\n",
    "from sklearn.metrics import accuracy_score\n",
    "\n",
    "accuracy_score(y_test, predicted)"
   ]
  },
  {
   "cell_type": "code",
   "execution_count": 23,
   "id": "1a01569c",
   "metadata": {},
   "outputs": [
    {
     "name": "stdout",
     "output_type": "stream",
     "text": [
      "              precision    recall  f1-score   support\n",
      "\n",
      "           0       1.00      0.88      0.94        17\n",
      "           1       0.96      1.00      0.98        54\n",
      "\n",
      "    accuracy                           0.97        71\n",
      "   macro avg       0.98      0.94      0.96        71\n",
      "weighted avg       0.97      0.97      0.97        71\n",
      "\n"
     ]
    }
   ],
   "source": [
    "# Precisió\n",
    "from sklearn.metrics import classification_report\n",
    "\n",
    "report = classification_report(y_test, predicted)\n",
    "print(report)"
   ]
  },
  {
   "cell_type": "code",
   "execution_count": 24,
   "id": "3e1e33d1",
   "metadata": {},
   "outputs": [],
   "source": [
    "# Corba de ROC\n",
    "from sklearn.metrics import roc_curve, auc\n",
    "\n",
    "fpr, tpr, thresholds = roc_curve(y_test, predicted)\n",
    "roc_auc = auc(fpr, tpr)"
   ]
  },
  {
   "cell_type": "code",
   "execution_count": 25,
   "id": "3e2e5172",
   "metadata": {},
   "outputs": [
    {
     "data": {
      "image/png": "[encoded data removed]",
      "text/plain": [
       "<Figure size 432x288 with 1 Axes>"
      ]
     },
     "metadata": {
      "needs_background": "light"
     },
     "output_type": "display_data"
    }
   ],
   "source": [
    "plt.figure()\n",
    "lw = 2\n",
    "plt.plot(fpr, tpr, color='darkorange', lw=lw, label='ROC curve (area = %0.2f)' % roc_auc)\n",
    "plt.plot([0, 1], [0, 1], color='navy', lw=lw, linestyle='--')\n",
    "plt.xlim([0.0, 1.0])\n",
    "plt.ylim([0.0, 1.05])\n",
    "plt.xlabel('False Positive Rate')\n",
    "plt.ylabel('True Positive Rate')\n",
    "plt.title('Receiver operating characteristic example')\n",
    "plt.legend(loc=\"lower right\")\n",
    "plt.show()"
   ]
  },
  {
   "cell_type": "code",
   "execution_count": null,
   "id": "46d76d9b",
   "metadata": {},
   "outputs": [],
   "source": []
  }
 ],
 "metadata": {
  "kernelspec": {
   "display_name": "bookEnv",
   "language": "python",
   "name": "bookenv"
  },
  "language_info": {
   "codemirror_mode": {
    "name": "ipython",
    "version": 3
   },
   "file_extension": ".py",
   "mimetype": "text/x-python",
   "name": "python",
   "nbconvert_exporter": "python",
   "pygments_lexer": "ipython3",
   "version": "3.10.5"
  }
 },
 "nbformat": 4,
 "nbformat_minor": 5
}
