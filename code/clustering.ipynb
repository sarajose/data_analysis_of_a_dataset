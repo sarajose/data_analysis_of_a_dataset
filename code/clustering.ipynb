{
 "cells": [
  {
   "cell_type": "code",
   "execution_count": 99,
   "id": "ae71c5fe",
   "metadata": {},
   "outputs": [],
   "source": [
    "import numpy as np\n",
    "import pandas as pd\n",
    "import matplotlib.pyplot as plt\n",
    "import seaborn as sns\n",
    "\n",
    "from sklearn.cluster import DBSCAN"
   ]
  },
  {
   "cell_type": "code",
   "execution_count": 100,
   "id": "287361e1",
   "metadata": {},
   "outputs": [],
   "source": [
    "import warnings\n",
    "warnings.filterwarnings('ignore')"
   ]
  },
  {
   "cell_type": "code",
   "execution_count": 101,
   "id": "fb460e66",
   "metadata": {},
   "outputs": [
    {
     "data": {
      "text/html": [
       "<div>\n",
       "<style scoped>\n",
       "    .dataframe tbody tr th:only-of-type {\n",
       "        vertical-align: middle;\n",
       "    }\n",
       "\n",
       "    .dataframe tbody tr th {\n",
       "        vertical-align: top;\n",
       "    }\n",
       "\n",
       "    .dataframe thead th {\n",
       "        text-align: right;\n",
       "    }\n",
       "</style>\n",
       "<table border=\"1\" class=\"dataframe\">\n",
       "  <thead>\n",
       "    <tr style=\"text-align: right;\">\n",
       "      <th></th>\n",
       "      <th>place_type</th>\n",
       "      <th>capacity</th>\n",
       "      <th>is_free</th>\n",
       "      <th>altitude</th>\n",
       "      <th>country</th>\n",
       "      <th>region</th>\n",
       "      <th>latitude</th>\n",
       "      <th>longitude</th>\n",
       "      <th>num_nearby_routes</th>\n",
       "      <th>num_services</th>\n",
       "    </tr>\n",
       "  </thead>\n",
       "  <tbody>\n",
       "    <tr>\n",
       "      <th>15</th>\n",
       "      <td>0</td>\n",
       "      <td>18.0</td>\n",
       "      <td>1</td>\n",
       "      <td>7.831220</td>\n",
       "      <td>0</td>\n",
       "      <td>3</td>\n",
       "      <td>3.775000</td>\n",
       "      <td>0.887562</td>\n",
       "      <td>4.477337</td>\n",
       "      <td>1.098612</td>\n",
       "    </tr>\n",
       "    <tr>\n",
       "      <th>31</th>\n",
       "      <td>0</td>\n",
       "      <td>6.0</td>\n",
       "      <td>1</td>\n",
       "      <td>7.669028</td>\n",
       "      <td>0</td>\n",
       "      <td>3</td>\n",
       "      <td>3.770063</td>\n",
       "      <td>1.154482</td>\n",
       "      <td>2.484907</td>\n",
       "      <td>1.098612</td>\n",
       "    </tr>\n",
       "    <tr>\n",
       "      <th>35</th>\n",
       "      <td>0</td>\n",
       "      <td>2.0</td>\n",
       "      <td>1</td>\n",
       "      <td>7.626083</td>\n",
       "      <td>1</td>\n",
       "      <td>12</td>\n",
       "      <td>3.771733</td>\n",
       "      <td>1.146729</td>\n",
       "      <td>1.098612</td>\n",
       "      <td>0.693147</td>\n",
       "    </tr>\n",
       "    <tr>\n",
       "      <th>36</th>\n",
       "      <td>0</td>\n",
       "      <td>6.0</td>\n",
       "      <td>1</td>\n",
       "      <td>7.710205</td>\n",
       "      <td>2</td>\n",
       "      <td>13</td>\n",
       "      <td>3.773016</td>\n",
       "      <td>0.958936</td>\n",
       "      <td>4.510860</td>\n",
       "      <td>1.609438</td>\n",
       "    </tr>\n",
       "    <tr>\n",
       "      <th>39</th>\n",
       "      <td>1</td>\n",
       "      <td>160.0</td>\n",
       "      <td>0</td>\n",
       "      <td>6.401917</td>\n",
       "      <td>0</td>\n",
       "      <td>3</td>\n",
       "      <td>3.764736</td>\n",
       "      <td>1.266018</td>\n",
       "      <td>3.178054</td>\n",
       "      <td>1.945910</td>\n",
       "    </tr>\n",
       "  </tbody>\n",
       "</table>\n",
       "</div>"
      ],
      "text/plain": [
       "    place_type  capacity  is_free  altitude  country  region  latitude  \\\n",
       "15           0      18.0        1  7.831220        0       3  3.775000   \n",
       "31           0       6.0        1  7.669028        0       3  3.770063   \n",
       "35           0       2.0        1  7.626083        1      12  3.771733   \n",
       "36           0       6.0        1  7.710205        2      13  3.773016   \n",
       "39           1     160.0        0  6.401917        0       3  3.764736   \n",
       "\n",
       "    longitude  num_nearby_routes  num_services  \n",
       "15   0.887562           4.477337      1.098612  \n",
       "31   1.154482           2.484907      1.098612  \n",
       "35   1.146729           1.098612      0.693147  \n",
       "36   0.958936           4.510860      1.609438  \n",
       "39   1.266018           3.178054      1.945910  "
      ]
     },
     "execution_count": 101,
     "metadata": {},
     "output_type": "execute_result"
    }
   ],
   "source": [
    "# Deserializing les dades\n",
    "\n",
    "std_df = pd.read_pickle('../data/standard_df.pkl')\n",
    "std_df.head()"
   ]
  },
  {
   "cell_type": "code",
   "execution_count": 102,
   "id": "9348b913",
   "metadata": {},
   "outputs": [
    {
     "data": {
      "text/plain": [
       "(236, 10)"
      ]
     },
     "execution_count": 102,
     "metadata": {},
     "output_type": "execute_result"
    }
   ],
   "source": [
    "# Abans d'aplicar DBSCAN tranformem tots els valors a una array\n",
    "valors = std_df.loc[:, std_df.columns].values\n",
    "valors.shape"
   ]
  },
  {
   "cell_type": "code",
   "execution_count": 103,
   "id": "cd4c692d",
   "metadata": {},
   "outputs": [
    {
     "data": {
      "image/png": "[encoded data removed]",
      "text/plain": [
       "<Figure size 576x288 with 1 Axes>"
      ]
     },
     "metadata": {
      "needs_background": "light"
     },
     "output_type": "display_data"
    }
   ],
   "source": [
    "# Primerament, hem de buscar els paràmetres per el minPoints i la epsilon\n",
    "# El dataset té 10 dimensions, per tant aquest serà el nostre valor de minPoints\n",
    "# Per trobar la epsilon hem de calcular la distància de cada punt amb el punt més proper\n",
    "\n",
    "punts_veins  = NearestNeighbors(n_neighbors=2)\n",
    "\n",
    "# Creo el model\n",
    "n_neigh=punts_veins .fit(valors) \n",
    "\n",
    "# Trobo els punts\n",
    "distancies,index=n_neigh.kneighbors(valors) \n",
    "\n",
    "# Visualitzo els resultats, primer he d'ordenar les distancies obtingudes\n",
    "# Organitzo les distàncies\n",
    "distancies = np.sort(distancies, axis = 0)\n",
    "distancies = distancies[:, 1]\n",
    "fig = plt.subplots(figsize=(8, 4))\n",
    "plt.plot(distancies)\n",
    "plt.xlabel(\"Distàncies\")\n",
    "plt.ylabel(\"Epsilon\")\n",
    "plt.grid(True)\n",
    "plt.title(\"Figura 1: Visualització del paràmetre epsilon\")\n",
    "plt.show()"
   ]
  },
  {
   "cell_type": "code",
   "execution_count": 104,
   "id": "28c4e6a6",
   "metadata": {},
   "outputs": [
    {
     "data": {
      "image/png": "[encoded data removed]",
      "text/plain": [
       "<Figure size 576x288 with 1 Axes>"
      ]
     },
     "metadata": {
      "needs_background": "light"
     },
     "output_type": "display_data"
    }
   ],
   "source": [
    "# La curvatura canvia sobtadament a aproximadament 17, per tant aquest serà el nostre valor d'epsilon.\n",
    "# Trobarem el número optim de clústers aplicant un DBSCAN\n",
    "atr = []\n",
    "for i in range(1,6):\n",
    "    # Calculem la distancia des del centre del clúster determinant un màxim iteracions de 100\n",
    "    kmeans = KMeans(n_clusters = i, init = 'k-means++', max_iter = 20)\n",
    "    kmeans.fit(std_df)\n",
    "    atr.append(kmeans.inertia_)\n",
    "#Visualitzem les iteracions\n",
    "fig = plt.subplots(figsize=(8, 4))\n",
    "plt.plot(range(1,6), atr, 'o-')\n",
    "plt.xlabel(\"Número de clusters\")\n",
    "plt.ylabel(\"Atributs\")\n",
    "plt.title(\"Figura 2: Determinació del número de clústers\")\n",
    "plt.grid(True)\n",
    "plt.show()"
   ]
  },
  {
   "cell_type": "code",
   "execution_count": 109,
   "id": "eac27fe8",
   "metadata": {},
   "outputs": [
    {
     "data": {
      "text/plain": [
       "array([-1,  0,  1,  2], dtype=int64)"
      ]
     },
     "execution_count": 109,
     "metadata": {},
     "output_type": "execute_result"
    }
   ],
   "source": [
    "# A continuació comprovarem el número de clústers, els -1 és com DBSCAN cataloga el soroll\n",
    "\n",
    "labels = DBSCAN(eps=15, min_samples=10).fit(std_df)\n",
    "\n",
    "db = DBSCAN(eps=17, min_samples=2).fit(std_df)\n",
    "labels = db.labels_\n",
    "np.unique(labels)"
   ]
  },
  {
   "cell_type": "code",
   "execution_count": 106,
   "id": "ffbd77a2",
   "metadata": {},
   "outputs": [
    {
     "data": {
      "image/png": "[encoded data removed]",
      "text/plain": [
       "<Figure size 432x288 with 1 Axes>"
      ]
     },
     "metadata": {
      "needs_background": "light"
     },
     "output_type": "display_data"
    }
   ],
   "source": [
    "# Obtinc 2 clusters, a continuació visualitzarem cada un dels clústers\n",
    "# DBSCAN mira la densitat dels punts, en els llocs on no hi ha prou densitat DSCAN els considera com soroll i no els agrupa a cap clúster\n",
    "# En el seguent gràfic podem veure els dos clústersm un en gris i laltre en groc i el soroll de color blau.\n",
    "plt.scatter(valors[:, 0], valors[:,1], c = labels, cmap= \"cividis\")\n",
    "plt.title(\"Figura 3: Visualitació de clústers amb DBSCAN\")\n",
    "plt.show()"
   ]
  }
 ],
 "metadata": {
  "kernelspec": {
   "display_name": "bookEnv",
   "language": "python",
   "name": "bookenv"
  },
  "language_info": {
   "codemirror_mode": {
    "name": "ipython",
    "version": 3
   },
   "file_extension": ".py",
   "mimetype": "text/x-python",
   "name": "python",
   "nbconvert_exporter": "python",
   "pygments_lexer": "ipython3",
   "version": "3.10.5"
  }
 },
 "nbformat": 4,
 "nbformat_minor": 5
}
